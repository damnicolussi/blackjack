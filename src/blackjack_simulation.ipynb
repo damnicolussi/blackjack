{
  "cells": [
    {
      "attachments": {},
      "cell_type": "markdown",
      "metadata": {
        "id": "xsU27WmU_wrQ"
      },
      "source": [
        "### Modules declaration"
      ]
    },
    {
      "cell_type": "code",
      "execution_count": 11,
      "metadata": {
        "id": "Zw2KKoo-_RvD"
      },
      "outputs": [],
      "source": [
        "import random\n",
        "from tqdm import tqdm\n",
        "import matplotlib.pyplot as plt\n",
        "import pandas as pd"
      ]
    },
    {
      "attachments": {},
      "cell_type": "markdown",
      "metadata": {
        "id": "UiqGE05L_zvk"
      },
      "source": [
        "### Functions declaration"
      ]
    },
    {
      "cell_type": "code",
      "execution_count": 10,
      "metadata": {
        "id": "dGgrldZS_Tjn"
      },
      "outputs": [],
      "source": [
        "def generate_deck():\n",
        "    deck = [11, 2, 3, 4, 5, 6, 7, 8, 9, 10, 10, 10, 10] * 4\n",
        "    return deck"
      ]
    },
    {
      "cell_type": "code",
      "execution_count": 8,
      "metadata": {
        "id": "rT9kZKTT_WDW"
      },
      "outputs": [],
      "source": [
        "def check_win(deposit, base_deposit, deck):\n",
        "    check = False\n",
        "\n",
        "    if deposit >= base_deposit * 2:\n",
        "        check = True\n",
        "\n",
        "    if deposit <= 0:\n",
        "        check = True\n",
        "\n",
        "    if len(deck) <= 12:\n",
        "        check = True\n",
        "    \n",
        "    return check"
      ]
    },
    {
      "cell_type": "code",
      "execution_count": 9,
      "metadata": {
        "id": "xSmsTMyR_XrO"
      },
      "outputs": [],
      "source": [
        "def check_ace(deck, score):\n",
        "    if score == 22:\n",
        "        score -= 10\n",
        "        deck[1] = 1\n",
        "    return deck, score, True"
      ]
    },
    {
      "cell_type": "code",
      "execution_count": 7,
      "metadata": {
        "id": "IsKaZajY_adh"
      },
      "outputs": [],
      "source": [
        "def hit(cards, score, deck, extracted, ace):\n",
        "    card = random.choice(deck)\n",
        "    cards.append(card)\n",
        "    extracted.append(card)\n",
        "    score += card      \n",
        "    deck.remove(card)\n",
        "    \n",
        "    if card == 11 and ace == True:\n",
        "        cards[-1] = 1\n",
        "        score -= 10\n",
        "        \n",
        "    return cards, score, deck, extracted"
      ]
    },
    {
      "cell_type": "code",
      "execution_count": 6,
      "metadata": {
        "id": "e5h4lOIw_cg9"
      },
      "outputs": [],
      "source": [
        "def probability(extracted, best_case):\n",
        "    copy_deck = generate_deck()\n",
        "\n",
        "    for card_extr in extracted:\n",
        "        copy_deck.remove(card_extr)\n",
        "\n",
        "    probability = []\n",
        "    for best in best_case:\n",
        "        counter = copy_deck.count(best)\n",
        "        probability.append((counter / len(copy_deck)) * 100)\n",
        "\n",
        "    return probability"
      ]
    },
    {
      "cell_type": "code",
      "execution_count": 5,
      "metadata": {
        "id": "QD4E54fr_f2V"
      },
      "outputs": [],
      "source": [
        "def check_bust(score):\n",
        "    if score >= 22:\n",
        "        return True\n",
        "\n",
        "    else:\n",
        "        return False"
      ]
    },
    {
      "cell_type": "code",
      "execution_count": 4,
      "metadata": {
        "id": "mGS6WIge_iwB"
      },
      "outputs": [],
      "source": [
        "def check_match(player_score, dealer_score, counter, deposit, bet, base_bet):\n",
        "    if player_score > dealer_score:\n",
        "        counter[0] += 1\n",
        "        deposit += bet * 2\n",
        "        bet = base_bet\n",
        "\n",
        "    elif player_score < dealer_score:\n",
        "        counter[1] += 1\n",
        "        bet *= 2\n",
        "\n",
        "    elif player_score == dealer_score:\n",
        "        deposit += bet\n",
        "\n",
        "    return counter, deposit, bet"
      ]
    },
    {
      "cell_type": "code",
      "execution_count": 3,
      "metadata": {
        "id": "A_Hw3C4d_mUU"
      },
      "outputs": [],
      "source": [
        "def match(counter, base_deposit, base_bet):\n",
        "    check = False\n",
        "    deck = generate_deck()\n",
        "    extracted = []\n",
        "    deposit = base_deposit\n",
        "    bet = base_bet\n",
        "\n",
        "    while check == False:\n",
        "        deposit -= bet\n",
        "\n",
        "        player = []\n",
        "        dealer = []\n",
        "        player_score = 0\n",
        "        dealer_score = 0\n",
        "        p_ace = False\n",
        "        d_ace = False\n",
        "\n",
        "        for i in range(2):\n",
        "            p_card = random.choice(deck)\n",
        "            player.append(p_card)\n",
        "            extracted.append(p_card)\n",
        "            player_score += p_card            \n",
        "            deck.remove(p_card)\n",
        "\n",
        "            d_card = random.choice(deck)\n",
        "            dealer.append(d_card)\n",
        "            extracted.append(d_card)\n",
        "            dealer_score += d_card\n",
        "            deck.remove(d_card)\n",
        "\n",
        "        player, player_score, p_ace = check_ace(player, player_score)\n",
        "        dealer, dealer_score, d_ace = check_ace(dealer, dealer_score)\n",
        "        \n",
        "        if dealer_score == 21:\n",
        "            counter[1] += 1\n",
        "            bet *= 2\n",
        "            \n",
        "        else:\n",
        "            while player_score < 11:\n",
        "                player, player_score, deck, extracted = hit(player, player_score, deck, extracted, p_ace)\n",
        "\n",
        "            best_case = []\n",
        "            if player_score >= 11 and player_score < 20:\n",
        "                for best in range(player_score, 20):\n",
        "                    best_case.append(21 - best)\n",
        "            \n",
        "                if len(extracted) > 4: \n",
        "                    best_probability = probability(extracted[:3] + extracted[4:], best_case)\n",
        "\n",
        "                elif len(extracted) == 4:\n",
        "                    best_probability = probability(extracted[:3], best_case)\n",
        "                \n",
        "                audacity = random.randint(20,100)\n",
        "                if max(best_probability) >= audacity:\n",
        "                    player, player_score, deck, extracted = hit(player, player_score, deck, extracted, p_ace)\n",
        "\n",
        "            if check_bust(player_score) == True:\n",
        "                counter[1] += 1\n",
        "                bet *= 2\n",
        "\n",
        "            elif check_bust(player_score) == False:\n",
        "                while dealer_score < 17:\n",
        "                    dealer, dealer_score, deck, extracted = hit(dealer, dealer_score, deck, extracted, d_ace)\n",
        "\n",
        "                if check_bust(dealer_score) == True:\n",
        "                    counter[0] += 1\n",
        "                    deposit += (bet * 2)\n",
        "                    bet = base_bet\n",
        "\n",
        "                elif check_bust(dealer_score) == False:\n",
        "                    counter, deposit, bet = check_match(player_score, dealer_score, counter, deposit, bet, base_bet)\n",
        "        \n",
        "        check = check_win(deposit, base_deposit, deck)\n",
        "\n",
        "    return counter"
      ]
    },
    {
      "cell_type": "code",
      "execution_count": 2,
      "metadata": {
        "id": "y1-s9D6C_ou-"
      },
      "outputs": [],
      "source": [
        "def bet1(counter, deposit, bet):\n",
        "    counter = match(counter, deposit, bet)\n",
        "\n",
        "    return counter"
      ]
    },
    {
      "attachments": {},
      "cell_type": "markdown",
      "metadata": {
        "id": "7675e6uU_6EC"
      },
      "source": [
        "### Main"
      ]
    },
    {
      "cell_type": "code",
      "execution_count": 12,
      "metadata": {
        "id": "hhmYM5yiCevi"
      },
      "outputs": [
        {
          "name": "stderr",
          "output_type": "stream",
          "text": [
            "Matches with deposit = 100 in progress: 100%|##########| 1000000/1000000 [00:55<00:00, 18136.98it/s]\n",
            "Matches with deposit = 200 in progress: 100%|##########| 1000000/1000000 [00:57<00:00, 17443.93it/s]\n",
            "Matches with deposit = 300 in progress: 100%|##########| 1000000/1000000 [00:57<00:00, 17512.81it/s]\n",
            "Matches with deposit = 400 in progress: 100%|##########| 1000000/1000000 [00:56<00:00, 17657.88it/s]\n",
            "Matches with deposit = 500 in progress: 100%|##########| 1000000/1000000 [00:56<00:00, 17582.53it/s]\n",
            "Matches with deposit = 600 in progress: 100%|##########| 1000000/1000000 [01:06<00:00, 14947.90it/s]\n",
            "Matches with deposit = 700 in progress: 100%|##########| 1000000/1000000 [01:52<00:00, 8906.75it/s]\n",
            "Matches with deposit = 800 in progress: 100%|##########| 1000000/1000000 [00:55<00:00, 17968.28it/s]\n",
            "Matches with deposit = 900 in progress: 100%|##########| 1000000/1000000 [00:58<00:00, 17055.55it/s]\n",
            "Matches with deposit = 1000 in progress: 100%|##########| 1000000/1000000 [00:59<00:00, 16907.48it/s]\n"
          ]
        }
      ],
      "source": [
        "counter1 = [0] * 2\n",
        "\n",
        "data1 = []\n",
        "d = []\n",
        "\n",
        "matches = 1000000\n",
        "\n",
        "for deposit in range(100, 1001, 100):\n",
        "    for x in tqdm(range(matches), ascii=True, desc=f\"Matches with deposit = {deposit} in progress\"):\n",
        "        counter1 = bet1(counter1, deposit, 5)\n",
        "    d.append(deposit)\n",
        "    d.append(counter1[0])\n",
        "    d.append(counter1[1])\n",
        "    d.append((counter1[0]/(counter1[0]+counter1[1])*100))\n",
        "    d.append((counter1[1]/(counter1[0]+counter1[1])*100))\n",
        "    data1.append(d)\n",
        "    d = []\n",
        "    \n",
        "    counter1 = [0] * 2"
      ]
    },
    {
      "cell_type": "code",
      "execution_count": 13,
      "metadata": {},
      "outputs": [
        {
          "name": "stdout",
          "output_type": "stream",
          "text": [
            "   Deposit   Player   Dealer  Player (%)  Dealer (%)\n",
            "0      100  3324876  4230375   44.007486   55.992514\n",
            "1      200  3394381  4325489   43.969406   56.030594\n",
            "2      300  3396517  4323553   43.995935   56.004065\n",
            "3      400  3423258  4358302   43.991924   56.008076\n",
            "4      500  3420888  4360322   43.963445   56.036555\n",
            "5      600  3422546  4359631   43.979288   56.020712\n",
            "6      700  3430934  4370668   43.977301   56.022699\n",
            "7      800  3432972  4368895   44.001929   55.998071\n",
            "8      900  3428669  4371999   43.953531   56.046469\n",
            "9     1000  3429550  4371201   43.964357   56.035643\n"
          ]
        }
      ],
      "source": [
        "p1 = pd.DataFrame(data1, columns=[\"Deposit\",\"Player\",\"Dealer\",\"Player (%)\",\"Dealer (%)\"])\n",
        "print(p1)"
      ]
    },
    {
      "cell_type": "code",
      "execution_count": 15,
      "metadata": {
        "id": "BwfxhVQ-_uHk"
      },
      "outputs": [
        {
          "data": {
            "image/png": "[encoded data removed]",
            "text/plain": [
              "<Figure size 1440x576 with 1 Axes>"
            ]
          },
          "metadata": {
            "needs_background": "light"
          },
          "output_type": "display_data"
        }
      ],
      "source": [
        "p1.plot(x=\"Deposit\", y=[\"Player\",\"Dealer\"], kind=\"bar\",figsize=(20,8))\n",
        "plt.show()"
      ]
    },
    {
      "attachments": {},
      "cell_type": "markdown",
      "metadata": {
        "id": "koPEsdCq_78w"
      },
      "source": [
        "### Alternative where deposit and bet change"
      ]
    },
    {
      "cell_type": "code",
      "execution_count": 17,
      "metadata": {},
      "outputs": [
        {
          "name": "stderr",
          "output_type": "stream",
          "text": [
            "Matches with deposit = 100 and bet = 5 in progress: 100%|##########| 10000/10000 [00:00<00:00, 17212.10it/s]\n",
            "Matches with deposit = 100 and bet = 10 in progress: 100%|##########| 10000/10000 [00:00<00:00, 18670.09it/s]\n",
            "Matches with deposit = 100 and bet = 15 in progress: 100%|##########| 10000/10000 [00:00<00:00, 19723.25it/s]\n",
            "Matches with deposit = 100 and bet = 20 in progress: 100%|##########| 10000/10000 [00:00<00:00, 22321.49it/s]\n",
            "Matches with deposit = 100 and bet = 25 in progress: 100%|##########| 10000/10000 [00:00<00:00, 24449.88it/s]\n",
            "Matches with deposit = 200 and bet = 5 in progress: 100%|##########| 10000/10000 [00:00<00:00, 17211.66it/s]\n",
            "Matches with deposit = 200 and bet = 10 in progress: 100%|##########| 10000/10000 [00:00<00:00, 17211.76it/s]\n",
            "Matches with deposit = 200 and bet = 15 in progress: 100%|##########| 10000/10000 [00:00<00:00, 18248.23it/s]\n",
            "Matches with deposit = 200 and bet = 20 in progress: 100%|##########| 10000/10000 [00:00<00:00, 18484.48it/s]\n",
            "Matches with deposit = 200 and bet = 25 in progress: 100%|##########| 10000/10000 [00:00<00:00, 18331.44it/s]\n",
            "Matches with deposit = 300 and bet = 5 in progress: 100%|##########| 10000/10000 [00:00<00:00, 17211.72it/s]\n",
            "Matches with deposit = 300 and bet = 10 in progress: 100%|##########| 10000/10000 [00:00<00:00, 17271.23it/s]\n",
            "Matches with deposit = 300 and bet = 15 in progress: 100%|##########| 10000/10000 [00:00<00:00, 17698.67it/s]\n",
            "Matches with deposit = 300 and bet = 20 in progress: 100%|##########| 10000/10000 [00:00<00:00, 18316.15it/s]\n",
            "Matches with deposit = 300 and bet = 25 in progress: 100%|##########| 10000/10000 [00:00<00:00, 18832.10it/s]\n",
            "Matches with deposit = 400 and bet = 5 in progress: 100%|##########| 10000/10000 [00:00<00:00, 17123.34it/s]\n",
            "Matches with deposit = 400 and bet = 10 in progress: 100%|##########| 10000/10000 [00:00<00:00, 17240.64it/s]\n",
            "Matches with deposit = 400 and bet = 15 in progress: 100%|##########| 10000/10000 [00:00<00:00, 17824.73it/s]\n",
            "Matches with deposit = 400 and bet = 20 in progress: 100%|##########| 10000/10000 [00:00<00:00, 17825.37it/s]\n",
            "Matches with deposit = 400 and bet = 25 in progress: 100%|##########| 10000/10000 [00:00<00:00, 17889.16it/s]\n",
            "Matches with deposit = 500 and bet = 5 in progress: 100%|##########| 10000/10000 [00:00<00:00, 17606.07it/s]\n",
            "Matches with deposit = 500 and bet = 10 in progress: 100%|##########| 10000/10000 [00:00<00:00, 17260.80it/s]\n",
            "Matches with deposit = 500 and bet = 15 in progress: 100%|##########| 10000/10000 [00:00<00:00, 17331.13it/s]\n",
            "Matches with deposit = 500 and bet = 20 in progress: 100%|##########| 10000/10000 [00:00<00:00, 17761.44it/s]\n",
            "Matches with deposit = 500 and bet = 25 in progress: 100%|##########| 10000/10000 [00:00<00:00, 17953.36it/s]\n",
            "Matches with deposit = 600 and bet = 5 in progress: 100%|##########| 10000/10000 [00:00<00:00, 17123.40it/s]\n",
            "Matches with deposit = 600 and bet = 10 in progress: 100%|##########| 10000/10000 [00:00<00:00, 17226.45it/s]\n",
            "Matches with deposit = 600 and bet = 15 in progress: 100%|##########| 10000/10000 [00:00<00:00, 17421.71it/s]\n",
            "Matches with deposit = 600 and bet = 20 in progress: 100%|##########| 10000/10000 [00:00<00:00, 17636.71it/s]\n",
            "Matches with deposit = 600 and bet = 25 in progress: 100%|##########| 10000/10000 [00:00<00:00, 18622.01it/s]\n",
            "Matches with deposit = 700 and bet = 5 in progress: 100%|##########| 10000/10000 [00:00<00:00, 17094.10it/s]\n",
            "Matches with deposit = 700 and bet = 10 in progress: 100%|##########| 10000/10000 [00:00<00:00, 17211.86it/s]\n",
            "Matches with deposit = 700 and bet = 15 in progress: 100%|##########| 10000/10000 [00:00<00:00, 17361.15it/s]\n",
            "Matches with deposit = 700 and bet = 20 in progress: 100%|##########| 10000/10000 [00:00<00:00, 17271.15it/s]\n",
            "Matches with deposit = 700 and bet = 25 in progress: 100%|##########| 10000/10000 [00:00<00:00, 17605.66it/s]\n",
            "Matches with deposit = 800 and bet = 5 in progress: 100%|##########| 10000/10000 [00:00<00:00, 17225.61it/s]\n",
            "Matches with deposit = 800 and bet = 10 in progress: 100%|##########| 10000/10000 [00:00<00:00, 16835.04it/s]\n",
            "Matches with deposit = 800 and bet = 15 in progress: 100%|##########| 10000/10000 [00:00<00:00, 17063.38it/s]\n",
            "Matches with deposit = 800 and bet = 20 in progress: 100%|##########| 10000/10000 [00:00<00:00, 17094.09it/s]\n",
            "Matches with deposit = 800 and bet = 25 in progress: 100%|##########| 10000/10000 [00:00<00:00, 17152.70it/s]\n",
            "Matches with deposit = 900 and bet = 5 in progress: 100%|##########| 10000/10000 [00:00<00:00, 17035.76it/s]\n",
            "Matches with deposit = 900 and bet = 10 in progress: 100%|##########| 10000/10000 [00:00<00:00, 17182.22it/s]\n",
            "Matches with deposit = 900 and bet = 15 in progress: 100%|##########| 10000/10000 [00:00<00:00, 17331.07it/s]\n",
            "Matches with deposit = 900 and bet = 20 in progress: 100%|##########| 10000/10000 [00:00<00:00, 17315.30it/s]\n",
            "Matches with deposit = 900 and bet = 25 in progress: 100%|##########| 10000/10000 [00:00<00:00, 17361.23it/s]\n",
            "Matches with deposit = 1000 and bet = 5 in progress: 100%|##########| 10000/10000 [00:00<00:00, 16949.12it/s]\n",
            "Matches with deposit = 1000 and bet = 10 in progress: 100%|##########| 10000/10000 [00:00<00:00, 16666.60it/s]\n",
            "Matches with deposit = 1000 and bet = 15 in progress: 100%|##########| 10000/10000 [00:00<00:00, 17094.02it/s]\n",
            "Matches with deposit = 1000 and bet = 20 in progress: 100%|##########| 10000/10000 [00:00<00:00, 17271.21it/s]\n",
            "Matches with deposit = 1000 and bet = 25 in progress: 100%|##########| 10000/10000 [00:00<00:00, 17035.70it/s]\n"
          ]
        }
      ],
      "source": [
        "counter2 = [0] * 2\n",
        "\n",
        "data2 = []\n",
        "d = []\n",
        "\n",
        "matches = 10000     #per velocizzare l'esecuzione abbiamo ridotto il numero di partite\n",
        "\n",
        "for deposit in range(100, 1001, 100):\n",
        "    for bet in range(5, 26, 5):\n",
        "        for x in tqdm(range(matches), ascii=True, desc=f\"Matches with deposit = {deposit} and bet = {bet} in progress\"):\n",
        "            counter2 = bet1(counter2, deposit, bet)\n",
        "        d.append(deposit)\n",
        "        d.append(bet)\n",
        "        d.append(counter2[0])\n",
        "        d.append(counter2[1])\n",
        "        d.append((counter2[0]/(counter2[0]+counter2[1])*100))\n",
        "        d.append((counter2[1]/(counter2[0]+counter2[1])*100))\n",
        "        data2.append(d)\n",
        "        d = []\n",
        "        \n",
        "        counter2 = [0] * 2"
      ]
    },
    {
      "cell_type": "code",
      "execution_count": 22,
      "metadata": {},
      "outputs": [
        {
          "name": "stdout",
          "output_type": "stream",
          "text": [
            "    Deposit  Bet  Player  Dealer  Player (%)  Dealer (%)\n",
            "0       100    5   33227   42403   43.933624   56.066376\n",
            "1       100   10   31564   39951   44.136195   55.863805\n",
            "2       100   15   29528   37356   44.148077   55.851923\n",
            "3       100   20   26679   34031   43.944984   56.055016\n",
            "4       100   25   24777   31162   44.292890   55.707110\n",
            "5       200    5   34028   43266   44.024116   55.975884\n",
            "6       200   10   33551   42102   44.348539   55.651461\n",
            "7       200   15   31403   40371   43.752612   56.247388\n",
            "8       200   20   31243   40089   43.799417   56.200583\n",
            "9       200   25   31642   39937   44.205703   55.794297\n",
            "10      300    5   34009   43219   44.037137   55.962863\n",
            "11      300   10   33240   42428   43.928741   56.071259\n",
            "12      300   15   33292   42305   44.038785   55.961215\n",
            "13      300   20   32164   40996   43.963915   56.036085\n",
            "14      300   25   31566   40020   44.095214   55.904786\n",
            "15      400    5   34525   43264   44.382882   55.617118\n",
            "16      400   10   34010   43344   43.966699   56.033301\n",
            "17      400   15   33125   42279   43.930030   56.069970\n",
            "18      400   20   33361   42431   44.016519   55.983481\n",
            "19      400   25   33270   42416   43.957931   56.042069\n",
            "20      500    5   34520   43243   44.391291   55.608709\n",
            "21      500   10   34198   43108   44.237187   55.762813\n",
            "22      500   15   33928   43294   43.935666   56.064334\n",
            "23      500   20   33335   42261   44.096248   55.903752\n",
            "24      500   25   33416   42200   44.191705   55.808295\n",
            "25      600    5   33991   43738   43.730139   56.269861\n",
            "26      600   10   33897   43427   43.837618   56.162382\n",
            "27      600   15   33941   43230   43.981547   56.018453\n",
            "28      600   20   33113   42528   43.776523   56.223477\n",
            "29      600   25   33211   42240   44.016647   55.983353\n",
            "30      700    5   34019   43910   43.653839   56.346161\n",
            "31      700   10   34364   43374   44.204893   55.795107\n",
            "32      700   15   34163   43129   44.199917   55.800083\n",
            "33      700   20   33602   43464   43.601588   56.398412\n",
            "34      700   25   33435   42240   44.182359   55.817641\n",
            "35      800    5   34424   43568   44.137860   55.862140\n",
            "36      800   10   34138   43690   43.863391   56.136609\n",
            "37      800   15   34212   42937   44.345358   55.654642\n",
            "38      800   20   33821   43289   43.860718   56.139282\n",
            "39      800   25   33858   43212   43.931491   56.068509\n",
            "40      900    5   34226   43803   43.863179   56.136821\n",
            "41      900   10   34069   43724   43.794429   56.205571\n",
            "42      900   15   33969   43306   43.958589   56.041411\n",
            "43      900   20   34089   43023   44.207127   55.792873\n",
            "44      900   25   33821   43487   43.748383   56.251617\n",
            "45     1000    5   34232   43758   43.892807   56.107193\n",
            "46     1000   10   34126   43617   43.895913   56.104087\n",
            "47     1000   15   34081   43723   43.803660   56.196340\n",
            "48     1000   20   33945   43232   43.983311   56.016689\n",
            "49     1000   25   34180   43024   44.272317   55.727683\n"
          ]
        }
      ],
      "source": [
        "p2 = pd.DataFrame(data2, columns=[\"Deposit\",\"Bet\",\"Player\",\"Dealer\",\"Player (%)\",\"Dealer (%)\"])\n",
        "print(p2)"
      ]
    },
    {
      "cell_type": "code",
      "execution_count": 23,
      "metadata": {},
      "outputs": [
        {
          "data": {
            "image/png": "[encoded data removed]",
            "text/plain": [
              "<Figure size 2160x576 with 1 Axes>"
            ]
          },
          "metadata": {
            "needs_background": "light"
          },
          "output_type": "display_data"
        }
      ],
      "source": [
        "p2.plot(x=\"Deposit\", y=[\"Player\",\"Dealer\"], kind=\"bar\",figsize=(30,8))\n",
        "plt.show()"
      ]
    }
  ],
  "metadata": {
    "colab": {
      "name": "progetto_blackjack",
      "provenance": []
    },
    "interpreter": {
      "hash": "ab498162e90e45dc8079f21722344f68bd4e75e32ae62b6ffa43e7f92a0caa70"
    },
    "kernelspec": {
      "display_name": "Python 3.10.4 64-bit (windows store)",
      "language": "python",
      "name": "python3"
    },
    "language_info": {
      "codemirror_mode": {
        "name": "ipython",
        "version": 3
      },
      "file_extension": ".py",
      "mimetype": "text/x-python",
      "name": "python",
      "nbconvert_exporter": "python",
      "pygments_lexer": "ipython3",
      "version": "3.10.4"
    }
  },
  "nbformat": 4,
  "nbformat_minor": 0
}
